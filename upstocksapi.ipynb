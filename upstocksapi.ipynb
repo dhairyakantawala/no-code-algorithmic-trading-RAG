{
 "cells": [
  {
   "cell_type": "code",
   "execution_count": 12,
   "metadata": {},
   "outputs": [
    {
     "name": "stdout",
     "output_type": "stream",
     "text": [
      "Error: 400 - {\"status\":\"error\",\"errors\":[{\"errorCode\":\"UDAPI1021\",\"message\":\"Instrument key is of invalid format\",\"propertyPath\":\"getHistoricalCandleData.instrumentKey\",\"invalidValue\":\"NIFTY\",\"error_code\":\"UDAPI1021\",\"property_path\":\"getHistoricalCandleData.instrumentKey\",\"invalid_value\":\"NIFTY\"}]}\n"
     ]
    }
   ],
   "source": [
    "import requests\n",
    "\n",
    "url = 'https://api.upstox.com/v2/historical-candle/NIFTY/1minute/2023-11-13/2023-11-12'\n",
    "headers = {\n",
    "    'Accept': 'application/json'\n",
    "}\n",
    "\n",
    "response = requests.get(url, headers=headers)\n",
    "\n",
    "# Check the response status\n",
    "if response.status_code == 200:\n",
    "    # Do something with the response data (e.g., print it)\n",
    "    print(response.json())\n",
    "else:\n",
    "    # Print an error message if the request was not successful\n",
    "    print(f\"Error: {response.status_code} - {response.text}\")"
   ]
  },
  {
   "cell_type": "code",
   "execution_count": 13,
   "metadata": {},
   "outputs": [],
   "source": [
    "api_key = ''"
   ]
  },
  {
   "cell_type": "code",
   "execution_count": 14,
   "metadata": {},
   "outputs": [
    {
     "name": "stdout",
     "output_type": "stream",
     "text": [
      "                         Open      High       Low     Close Volume\n",
      "2024-07-31 19:59:00  223.4410  223.6670  223.3520  223.5420   2482\n",
      "2024-07-31 19:58:00  223.3770  223.4930  223.3420  223.4020   1657\n",
      "2024-07-31 19:57:00  223.4910  223.5320  223.2520  223.4120   3324\n",
      "2024-07-31 19:56:00  223.5410  223.5420  223.2590  223.4910   2087\n",
      "2024-07-31 19:55:00  223.6260  223.6620  223.4910  223.5420    974\n",
      "...                       ...       ...       ...       ...    ...\n",
      "2024-07-18 04:04:00  230.1540  230.1650  230.0940  230.1140   2216\n",
      "2024-07-18 04:03:00  230.1340  230.1850  230.1340  230.1340    589\n",
      "2024-07-18 04:02:00  229.9740  230.1950  229.9740  230.1440   2942\n",
      "2024-07-18 04:01:00  230.0540  230.1550  229.9440  229.9740    230\n",
      "2024-07-18 04:00:00  229.0750  230.2350  228.4360  229.9440   3953\n",
      "\n",
      "[9580 rows x 5 columns]\n"
     ]
    }
   ],
   "source": [
    "import requests\n",
    "import pandas as pd\n",
    "from datetime import datetime\n",
    "\n",
    "# AlphaVantage API details\n",
    "api_key = \"\"\n",
    "symbol = \"AAPL\"  # Example symbol\n",
    "interval = \"1min\"\n",
    "function = \"TIME_SERIES_INTRADAY\"\n",
    "output_size = \"full\"\n",
    "\n",
    "# URL for AlphaVantage API\n",
    "url = f\"https://www.alphavantage.co/query?function={function}&symbol={symbol}&interval={interval}&apikey={api_key}&outputsize={output_size}\"\n",
    "\n",
    "# Make the API call\n",
    "response = requests.get(url)\n",
    "data = response.json()\n",
    "\n",
    "# Extract the time series data\n",
    "time_series_key = f\"Time Series ({interval})\"\n",
    "time_series_data = data.get(time_series_key, {})\n",
    "\n",
    "# Convert the data into a DataFrame\n",
    "df = pd.DataFrame.from_dict(time_series_data, orient=\"index\")\n",
    "df.index = pd.to_datetime(df.index)\n",
    "df.columns = [\"Open\", \"High\", \"Low\", \"Close\", \"Volume\"]\n",
    "\n",
    "# Get the current month and year\n",
    "current_month = datetime.now().month\n",
    "current_year = datetime.now().year\n",
    "\n",
    "# Filter out 1-minute data for the current month\n",
    "df_filtered = df[~((df.index.month == current_month) & (df.index.year == current_year))]\n",
    "\n",
    "# Display the filtered DataFrame\n",
    "print(df_filtered)\n"
   ]
  },
  {
   "cell_type": "code",
   "execution_count": null,
   "metadata": {},
   "outputs": [],
   "source": []
  }
 ],
 "metadata": {
  "kernelspec": {
   "display_name": "clean",
   "language": "python",
   "name": "python3"
  },
  "language_info": {
   "codemirror_mode": {
    "name": "ipython",
    "version": 3
   },
   "file_extension": ".py",
   "mimetype": "text/x-python",
   "name": "python",
   "nbconvert_exporter": "python",
   "pygments_lexer": "ipython3",
   "version": "3.12.4"
  }
 },
 "nbformat": 4,
 "nbformat_minor": 2
}
